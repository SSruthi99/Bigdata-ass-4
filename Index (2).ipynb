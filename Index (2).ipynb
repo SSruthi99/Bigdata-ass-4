{
 "cells": [
  {
   "cell_type": "markdown",
   "metadata": {},
   "source": [
    "# Welcome to Jupyter!"
   ]
  },
  {
   "cell_type": "markdown",
   "metadata": {},
   "source": [
    "This repo contains an introduction to [Jupyter](https://jupyter.org) and [IPython](https://ipython.org).\n",
    "\n",
    "Outline of some basics:\n",
    "\n",
    "* [Notebook Basics](../examples/Notebook/Notebook%20Basics.ipynb)\n",
    "* [IPython - beyond plain python](../examples/IPython%20Kernel/Beyond%20Plain%20Python.ipynb)\n",
    "* [Markdown Cells](../examples/Notebook/Working%20With%20Markdown%20Cells.ipynb)\n",
    "* [Rich Display System](../examples/IPython%20Kernel/Rich%20Output.ipynb)\n",
    "* [Custom Display logic](../examples/IPython%20Kernel/Custom%20Display%20Logic.ipynb)\n",
    "* [Running a Secure Public Notebook Server](../examples/Notebook/Running%20the%20Notebook%20Server.ipynb#Securing-the-notebook-server)\n",
    "* [How Jupyter works](../examples/Notebook/Multiple%20Languages%2C%20Frontends.ipynb) to run code in different languages."
   ]
  },
  {
   "cell_type": "markdown",
   "metadata": {},
   "source": [
    "You can also get this tutorial and run it on your laptop:\n",
    "\n",
    "    git clone https://github.com/ipython/ipython-in-depth\n",
    "\n",
    "Install IPython and Jupyter:\n",
    "\n",
    "with [conda](https://www.anaconda.com/download):\n",
    "\n",
    "    conda install ipython jupyter\n",
    "\n",
    "with pip:\n",
    "\n",
    "    # first, always upgrade pip!\n",
    "    pip install --upgrade pip\n",
    "    pip install --upgrade ipython jupyter\n",
    "\n",
    "Start the notebook in the tutorial directory:\n",
    "\n",
    "    cd ipython-in-depth\n",
    "    jupyter notebook"
   ]
  },
  {
   "cell_type": "markdown",
   "metadata": {},
   "source": [
    "  Bigdata Assignment-4\n",
    "   \n",
    "  Sruthi S\n",
    "  'C'-54\n",
    "  120003314"
   ]
  },
  {
   "cell_type": "markdown",
   "metadata": {},
   "source": [
    "1. a)"
   ]
  },
  {
   "cell_type": "code",
   "execution_count": 1,
   "metadata": {},
   "outputs": [
    {
     "name": "stdout",
     "output_type": "stream",
     "text": [
      "4\n",
      "8\n",
      "Jaccard Distance between A and B is 0.5\n",
      "4\n",
      "8\n",
      "Jaccard Distance between B and C is 0.5\n",
      "4\n",
      "8\n",
      "Jaccard Distance between A and C is 0.5\n"
     ]
    }
   ],
   "source": [
    "A=(1,1,0,1,1,0,1,1)\n",
    "B=(0,1,1,1,1,1,1,0)\n",
    "C=(1,0,1,1,0,1,1,1)\n",
    "\n",
    "def findInter(s1,s2):\n",
    "    inter=0\n",
    "    for i in range(len(s1)):\n",
    "        if(s1[i]==s2[i]==1):\n",
    "            inter=inter+1\n",
    "    return inter        \n",
    "def findUnion(s1,s2):\n",
    "    union=0\n",
    "    for i in range(len(s1)):\n",
    "        if(s1[i]==1 or s2[i]==1):\n",
    "            union=union+1\n",
    "    return union\n",
    "\n",
    "in1=findInter(A,B)\n",
    "un=findUnion(A,B)\n",
    "print(in1)\n",
    "print(un)\n",
    "jacind=in1/un\n",
    "jacdist=1-jacind\n",
    "print(\"Jaccard Distance between A and B is \"+str(jacind))\n",
    "\n",
    "in1=findInter(B,C)\n",
    "un=findUnion(B,C)\n",
    "print(in1)\n",
    "print(un)\n",
    "jacind=in1/un\n",
    "jacdist=1-jacind\n",
    "print(\"Jaccard Distance between B and C is \"+str(jacind))\n",
    "\n",
    "in1=findInter(A,C)\n",
    "un=findUnion(A,C)\n",
    "print(in1)\n",
    "print(un)\n",
    "jacind=in1/un\n",
    "jacdist=1-jacind\n",
    "print(\"Jaccard Distance between A and C is \"+str(jacind))"
   ]
  },
  {
   "cell_type": "markdown",
   "metadata": {},
   "source": [
    "1.  b) cosine distance."
   ]
  },
  {
   "cell_type": "code",
   "execution_count": 2,
   "metadata": {},
   "outputs": [
    {
     "name": "stdout",
     "output_type": "stream",
     "text": [
      "The Cosine Distance between A and B is 0.6666666666666667\n",
      "The Cosine Distance between B and C is 0.6666666666666667\n",
      "The Cosine Distance between A and C is 0.6666666666666667\n"
     ]
    }
   ],
   "source": [
    "import math\n",
    "A=(1,1,0,1,1,0,1,1)\n",
    "B=(0,1,1,1,1,1,1,0)\n",
    "C=(1,0,1,1,0,1,1,1)\n",
    "\n",
    "def findDot(s1,s2):\n",
    "    dot=0;\n",
    "    for i in range(len(s1)):\n",
    "        dot+=s1[i]*s2[i]\n",
    "    return dot\n",
    "\n",
    "num=findDot(A,B)\n",
    "den=math.sqrt(findDot(A,A))* math.sqrt(findDot(B,B))\n",
    "print(\"The Cosine Distance between A and B is \"+str(num/den))\n",
    "\n",
    "num=findDot(B,C)\n",
    "den=math.sqrt(findDot(C,C))* math.sqrt(findDot(B,B))\n",
    "print(\"The Cosine Distance between B and C is \"+str(num/den))\n",
    "\n",
    "num=findDot(A,C)\n",
    "den=math.sqrt(findDot(A,A))* math.sqrt(findDot(C,C))\n",
    "print(\"The Cosine Distance between A and C is \"+str(num/den))"
   ]
  },
  {
   "cell_type": "markdown",
   "metadata": {},
   "source": [
    "1. c)Computing the Jaccard distance between each pair of users."
   ]
  },
  {
   "cell_type": "code",
   "execution_count": 3,
   "metadata": {},
   "outputs": [
    {
     "name": "stdout",
     "output_type": "stream",
     "text": [
      "2\n",
      "5\n",
      "Jaccard Distance between A and B is 0.4\n",
      "1\n",
      "6\n",
      "Jaccard Distance between B and C is 0.16666666666666666\n",
      "2\n",
      "6\n",
      "Jaccard Distance between A and C is 0.3333333333333333\n"
     ]
    }
   ],
   "source": [
    "A=(1,1,0,1,0,0,1,0)\n",
    "B=(0,1,1,1,0,0,0,0)\n",
    "C=(0,0,0,1,0,1,1,1)\n",
    "\n",
    "in1=findInter(A,B)\n",
    "un=findUnion(A,B)\n",
    "print(in1)\n",
    "print(un)\n",
    "jacind=in1/un\n",
    "jacdist=1-jacind\n",
    "print(\"Jaccard Distance between A and B is \"+str(jacind))\n",
    "\n",
    "in1=findInter(B,C)\n",
    "un=findUnion(B,C)\n",
    "print(in1)\n",
    "print(un)\n",
    "jacind=in1/un\n",
    "jacdist=1-jacind\n",
    "print(\"Jaccard Distance between B and C is \"+str(jacind))\n",
    "\n",
    "in1=findInter(A,C)\n",
    "un=findUnion(A,C)\n",
    "print(in1)\n",
    "print(un)\n",
    "jacind=in1/un\n",
    "jacdist=1-jacind\n",
    "print(\"Jaccard Distance between A and C is \"+str(jacind))"
   ]
  },
  {
   "cell_type": "markdown",
   "metadata": {},
   "source": [
    "1. d)Repeating Part (c), but using the cosine distance."
   ]
  },
  {
   "cell_type": "code",
   "execution_count": 4,
   "metadata": {},
   "outputs": [
    {
     "name": "stdout",
     "output_type": "stream",
     "text": [
      "The Cosine Distance between A and B is 0.5773502691896258\n",
      "The Cosine Distance between B and C is 0.2886751345948129\n",
      "The Cosine Distance between A and C is 0.5\n"
     ]
    }
   ],
   "source": [
    "import math\n",
    "A=(1,1,0,1,0,0,1,0)\n",
    "B=(0,1,1,1,0,0,0,0)\n",
    "C=(0,0,0,1,0,1,1,1)\n",
    "\n",
    "num=findDot(A,B)\n",
    "den=math.sqrt(findDot(A,A))* math.sqrt(findDot(B,B))\n",
    "print(\"The Cosine Distance between A and B is \"+str(num/den))\n",
    "\n",
    "num=findDot(B,C)\n",
    "den=math.sqrt(findDot(C,C))* math.sqrt(findDot(B,B))\n",
    "print(\"The Cosine Distance between B and C is \"+str(num/den))\n",
    "\n",
    "num=findDot(A,C)\n",
    "den=math.sqrt(findDot(A,A))* math.sqrt(findDot(C,C))\n",
    "print(\"The Cosine Distance between A and C is \"+str(num/den))"
   ]
  },
  {
   "cell_type": "markdown",
   "metadata": {},
   "source": [
    "1. e) Normalizing the matrix by subtracting from each nonblank entry the average value for its user."
   ]
  },
  {
   "cell_type": "code",
   "execution_count": 5,
   "metadata": {},
   "outputs": [
    {
     "name": "stdout",
     "output_type": "stream",
     "text": [
      "[1.5, 2.5, 0, 2.5, -1.5, 0, 0.5, -0.5]\n",
      "[0, 1.25, 2.25, 1.25, -0.75, 0.25, -0.75, 0]\n",
      "[-0.25, 0, -1.25, 0.75, 0, 1.75, 2.75, 0.75]\n"
     ]
    }
   ],
   "source": [
    "A=[4,5,0,5,1,0,3,2]\n",
    "B=[0,3,4,3,1,2,1,0]\n",
    "C=[2,0,1,3,0,4,5,3]\n",
    "\n",
    "def findAvg(s1):\n",
    "    avg=0;\n",
    "    for i in range(len(s1)):\n",
    "        avg+=s1[i]\n",
    "    avg=avg/len(s1)\n",
    "    return avg\n",
    "\n",
    "def repList(s1):\n",
    "    l=list()\n",
    "    for i in s1:\n",
    "        if(i is not 0):\n",
    "            l.append(i-findAvg(s1))\n",
    "        else:\n",
    "            l.append(0)\n",
    "    return l\n",
    "\n",
    "A=repList(A)\n",
    "B=repList(B)\n",
    "C=repList(C)\n",
    "print(A)\n",
    "print(B)\n",
    "print(C)"
   ]
  },
  {
   "cell_type": "markdown",
   "metadata": {},
   "source": [
    "1. f)  Using the normalized matrix from Part (e), compute the cosine distance between each pair of users."
   ]
  },
  {
   "cell_type": "code",
   "execution_count": 6,
   "metadata": {},
   "outputs": [
    {
     "name": "stdout",
     "output_type": "stream",
     "text": [
      "The Cosine Distance between A and B is 0.5465040408511785\n",
      "The Cosine Distance between B and C is -0.31256152042413066\n",
      "The Cosine Distance between A and C is 0.16340829138365012\n"
     ]
    }
   ],
   "source": [
    "import math\n",
    "A=(1.5, 2.5, 0, 2.5, -1.5, 0, 0.5, -0.5)\n",
    "B=(0, 1.25, 2.25, 1.25, -0.75, 0.25, -0.75, 0)\n",
    "C=(-0.25, 0, -1.25, 0.75, 0, 1.75, 2.75, 0.75)\n",
    "num=findDot(A,B)\n",
    "den=math.sqrt(findDot(A,A))* math.sqrt(findDot(B,B))\n",
    "print(\"The Cosine Distance between A and B is \"+str(num/den))\n",
    "\n",
    "num=findDot(B,C)\n",
    "den=math.sqrt(findDot(C,C))* math.sqrt(findDot(B,B))\n",
    "print(\"The Cosine Distance between B and C is \"+str(num/den))\n",
    "\n",
    "num=findDot(A,C)\n",
    "den=math.sqrt(findDot(A,A))* math.sqrt(findDot(C,C))\n",
    "print(\"The Cosine Distance between A and C is \"+str(num/den))"
   ]
  },
  {
   "cell_type": "markdown",
   "metadata": {},
   "source": [
    "2) Building a user profile on unscaled data for both users 200 and 15, and calculate the cosine similarity and distance between the user’s preferences and the item/movie 95 and identifying which user would a recommender system suggest this movie."
   ]
  },
  {
   "cell_type": "code",
   "execution_count": null,
   "metadata": {},
   "outputs": [],
   "source": [
    "import pandas as pd\n",
    "dat=pd.read_csv('C:/Users/admin/bda/assign.csv')\n",
    "df=pd.read_csv('C:/Users/admin/bda/assign1.csv')\n",
    "movie_choice=pd.DataFrame(df1.loc[94,::])\n",
    "movie_choice.head(n=10)\n",
    "df1.index+=1\n",
    "df1.head()\n",
    "movies_index=df1.MovieID\n",
    "genres=df1.columns\n",
    "genres=genres[5:]\n",
    "genre_values=df1.values\n",
    "dat200=pd.DataFrame(d.loc[d['UserID']==200])\n",
    "user200r=dat200.Rating\n",
    "user200i=dat200.ItemID\n",
    "dat200.head(n=10)"
   ]
  },
  {
   "cell_type": "code",
   "execution_count": null,
   "metadata": {},
   "outputs": [],
   "source": [
    "dat15=pd.DataFrame(dat.loc[dat['UserID']==15])\n",
    "user15r=dat15.Rating\n",
    "user15i=dat15.ItemID\n",
    "dat15.head(n=10)"
   ]
  },
  {
   "cell_type": "markdown",
   "metadata": {},
   "source": [
    "User 200's Ratings :  [2.12, 1.28, 0.37, 0.77, 3.09, 0.54, 0.11, 3.01, 0.2, 0.11, 0.6, 0.48, 0.3, 1.18, 1.01, 1.57, 0.84, 0.41]\n",
    "User 15's Ratings  : [1.4, 0.82, 0.09, 0.91, 2.19, 1.01, 0.15, 4.45, 0.3, 0.24, 0.37, 0.18, 0.4, 1.58, 0.91, 2.1, 0.61, 0.27]\n",
    "\n",
    "Cosine Distance b/w User200 and Movie Number 95 :  Aladdin is 0.4146403090399625\n",
    "Cosine Distance b/w User15 and Movie Number 95  :  Aladdin is 0.27418788454906295\n",
    " User 200 might enjoy \" Aladdin\" more than User 15,The Recommender would suggest this movie to User 200 because User 200 might enjoy \" Aladdin\" more than User 15"
   ]
  },
  {
   "cell_type": "markdown",
   "metadata": {},
   "source": [
    "3) Using the same dataset compute the Item based Collaborative Filtering to predict the rater's age distribution, cosine similarity given the user interest in movie Speed (1994) what would your movie recommendation listed in order of their cosine similarity."
   ]
  },
  {
   "cell_type": "code",
   "execution_count": null,
   "metadata": {},
   "outputs": [],
   "source": [
    "speed=(df1.loc[df1['Movie Title']=='Speed (1994)'])\n",
    "print(speed.MovieID)"
   ]
  },
  {
   "cell_type": "markdown",
   "metadata": {},
   "source": [
    "568    568\n",
    "Name: MovieID, dtype: int64"
   ]
  },
  {
   "cell_type": "markdown",
   "metadata": {},
   "source": [
    "Extracting users who have rated the movie 3 and above, meaning they enjoyed it and then found their respective ages with the help of UserIDs."
   ]
  },
  {
   "cell_type": "code",
   "execution_count": null,
   "metadata": {},
   "outputs": [],
   "source": [
    "users_speed=pd.DataFrame(dat.loc[dat['ItemID']==568])\n",
    "vals=users_speed.values\n",
    "valid=list()\n",
    "for i in vals:\n",
    "    if(i[2]>=3):\n",
    "        valid.append(i[0])\n",
    "\n",
    "users_age=pd.read_csv('C:/Users/admin/bda/ass2.csv')\n",
    "users_age.index+=1\n",
    "all_ages=users_age.Age\n",
    "age=list()\n",
    "for i in valid:\n",
    "    age.append(all_ages[i])\n",
    "#print(age)\n",
    "age15=[]\n",
    "age20=[]\n",
    "age30=[]\n",
    "age40=[]\n",
    "age50=[]\n",
    "age60=[]\n",
    "\n",
    "for i in age:\n",
    "    if(i<20):\n",
    "        age15.append(i)\n",
    "    if(i>=20 and i<30):\n",
    "        age20.append(i)\n",
    "    if(i>=30 and i<40):\n",
    "        age30.append(i)\n",
    "    if(i>=40 and i<50):\n",
    "        age40.append(i)\n",
    "    if(i>=50 and i<60):\n",
    "        age50.append(i)\n",
    "    if(i>=60 and i<70):\n",
    "        age60.append(i)\n",
    "\n",
    "print(\"Users younger than 20 : \"+str(len(age15)))\n",
    "print(\"Users aged 20-30 : \"+str(len(age20)))\n",
    "print(\"Users aged 30-40 : \"+str(len(age30)))\n",
    "print(\"Users aged 40-50 : \"+str(len(age40)))\n",
    "print(\"Users aged 50-60 : \"+str(len(age50)))\n",
    "print(\"Users aged 60 and above : \"+str(len(age60)))"
   ]
  },
  {
   "cell_type": "markdown",
   "metadata": {},
   "source": [
    "Users younger than 20 : 21\n",
    "Users aged 20-30 : 88\n",
    "Users aged 30-40 : 55\n",
    "Users aged 40-50 : 26\n",
    "Users aged 50-60 : 9\n",
    "Users aged 60 and above : 2"
   ]
  },
  {
   "cell_type": "code",
   "execution_count": null,
   "metadata": {},
   "outputs": [],
   "source": [
    "goal_id=[]\n",
    "j=0\n",
    "for i in all_ages:\n",
    "    j+=1\n",
    "    if(i>=20 and i<30):\n",
    "        goal_id.append(j)\n",
    "#print(goal_id)\n",
    "movie_id=[]\n",
    "items=dat.values\n",
    "for i in goal_id:\n",
    "    j=items[i]\n",
    "    movie_id.append(j[0])"
   ]
  },
  {
   "cell_type": "code",
   "execution_count": null,
   "metadata": {},
   "outputs": [],
   "source": [
    "smovie=genre_values[567]\n",
    "smovie=smovie[5:]\n",
    "cos_vals=[]\n",
    "for i in movie_id:\n",
    "    j=genre_values[i]\n",
    "    j=j[5:]\n",
    "    num=findDot(smovie,j)\n",
    "    den=math.sqrt(findDot(j,j))* math.sqrt(findDot(smovie,smovie))\n",
    "    cos_vals.append(round((num/den),2))\n",
    "print(cos_vals)"
   ]
  },
  {
   "cell_type": "code",
   "execution_count": null,
   "metadata": {},
   "outputs": [],
   "source": [
    "res = sorted(range(len(cos_vals)), key = lambda sub: cos_vals[sub])[-3:]\n",
    "moviet=df1.values\n",
    "for i in res:\n",
    "    j=moviet[i]\n",
    "    print(j[1])"
   ]
  },
  {
   "cell_type": "markdown",
   "metadata": {},
   "source": [
    "The recommender suggests movies:\n",
    "Avengers (2012)\n",
    "Captain America: Civil war (2016)\n",
    "Avengers Infinity war (2018)"
   ]
  }
 ],
 "metadata": {
  "kernelspec": {
   "display_name": "Python 3",
   "language": "python",
   "name": "python3"
  },
  "language_info": {
   "codemirror_mode": {
    "name": "ipython",
    "version": 3
   },
   "file_extension": ".py",
   "mimetype": "text/x-python",
   "name": "python",
   "nbconvert_exporter": "python",
   "pygments_lexer": "ipython3",
   "version": "3.6.7"
  }
 },
 "nbformat": 4,
 "nbformat_minor": 2
}
